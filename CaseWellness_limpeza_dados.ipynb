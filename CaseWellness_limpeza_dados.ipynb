{
  "nbformat": 4,
  "nbformat_minor": 0,
  "metadata": {
    "colab": {
      "provenance": [],
      "authorship_tag": "ABX9TyNxwjp2koKPESnCnSOLIeOq",
      "include_colab_link": true
    },
    "kernelspec": {
      "name": "python3",
      "display_name": "Python 3"
    },
    "language_info": {
      "name": "python"
    }
  },
  "cells": [
    {
      "cell_type": "markdown",
      "metadata": {
        "id": "view-in-github",
        "colab_type": "text"
      },
      "source": [
        "<a href=\"https://colab.research.google.com/github/karenQuiroga88/python_cases/blob/main/CaseWellness_limpeza_dados.ipynb\" target=\"_parent\"><img src=\"https://colab.research.google.com/assets/colab-badge.svg\" alt=\"Open In Colab\"/></a>"
      ]
    },
    {
      "cell_type": "markdown",
      "source": [
        "# Case: Screen Time vs Mental Wellness Survey\n",
        "\n",
        "Obetivo:    \n",
        "\n",
        "*    Tratar base de dados, excluir valores nulos e ajustar duplicidades, conforme necessário.\n",
        "*   Após tratamento da base, levantar média dos principais KPIS.\n",
        "*   Salvar arquivo em formato csv.\n"
      ],
      "metadata": {
        "id": "tziQuRURUHY-"
      }
    },
    {
      "cell_type": "markdown",
      "source": [
        "###1: Importar bibliotecas e montar acesso google drive"
      ],
      "metadata": {
        "id": "MbiZtJqSVhlM"
      }
    },
    {
      "cell_type": "code",
      "execution_count": 2,
      "metadata": {
        "colab": {
          "base_uri": "https://localhost:8080/"
        },
        "collapsed": true,
        "id": "iL1Xe9alsmL4",
        "outputId": "41caee91-ebb1-4a97-c6e6-480adea182b3"
      },
      "outputs": [
        {
          "output_type": "stream",
          "name": "stdout",
          "text": [
            "Mounted at /content/drive\n"
          ]
        }
      ],
      "source": [
        "from google.colab import drive\n",
        "import pandas as pd\n",
        "import os\n",
        "\n",
        "# ---- 1. Montar o Google Drive\n",
        "drive.mount('/content/drive')"
      ]
    },
    {
      "cell_type": "markdown",
      "source": [
        "###2: Informar caminho e visualizar os dados"
      ],
      "metadata": {
        "id": "zS3YdMftWDsL"
      }
    },
    {
      "cell_type": "code",
      "source": [
        "# ---- 2. Caminho do arquivo\n",
        "caminho = '/content/drive/MyDrive/Colab Notebooks'\n",
        "arquivo = 'ScreenTimevsMentalWellness.csv'\n",
        "caminhoCompleto = os.path.join(caminho,arquivo)\n",
        "\n",
        "# ler arquivo\n",
        "df = pd.read_csv(caminhoCompleto)\n",
        "\n",
        "print(df.head (5))\n",
        "\n",
        "# print (df.columns.tolist())"
      ],
      "metadata": {
        "colab": {
          "base_uri": "https://localhost:8080/"
        },
        "id": "rR6RxxlXVu0s",
        "outputId": "058a480f-2596-4441-8e06-ddf123f63ef0"
      },
      "execution_count": 26,
      "outputs": [
        {
          "output_type": "stream",
          "name": "stdout",
          "text": [
            "  user_id  age  gender occupation  work_mode  screen_time_hours  \\\n",
            "0   U0001   33  Female   Employed     Remote              10.79   \n",
            "1   U0002   28  Female   Employed  In-person               7.40   \n",
            "2   U0003   35  Female   Employed     Hybrid               9.78   \n",
            "3   U0004   42    Male   Employed     Hybrid              11.13   \n",
            "4   U0005   28    Male    Student     Remote              13.22   \n",
            "\n",
            "   work_screen_hours  leisure_screen_hours  sleep_hours  sleep_quality_1_5  \\\n",
            "0               5.44                  5.35         6.63                  1   \n",
            "1               0.37                  7.03         8.05                  3   \n",
            "2               1.09                  8.69         6.48                  1   \n",
            "3               0.56                 10.57         6.89                  1   \n",
            "4               4.09                  9.13         5.79                  1   \n",
            "\n",
            "   stress_level_0_10  productivity_0_100  exercise_minutes_per_week  \\\n",
            "0                9.3                44.7                        127   \n",
            "1                5.7                78.0                         74   \n",
            "2                9.1                51.8                         67   \n",
            "3               10.0                37.0                          0   \n",
            "4               10.0                38.5                        143   \n",
            "\n",
            "   social_hours_per_week  mental_wellness_index_0_100  Unnamed: 15  \n",
            "0                    0.7                          9.3          NaN  \n",
            "1                    2.1                         56.2          NaN  \n",
            "2                    8.0                          3.6          NaN  \n",
            "3                    5.7                          0.0          NaN  \n",
            "4                   10.1                          0.0          NaN  \n"
          ]
        }
      ]
    },
    {
      "cell_type": "markdown",
      "source": [
        "###3: Limpeza dos dados\n",
        "\n",
        "*   Tratando itens nulos\n",
        "*   Tratando itens duplicados"
      ],
      "metadata": {
        "id": "GGSyFewJW8mC"
      }
    },
    {
      "cell_type": "code",
      "source": [
        "\"Verificando se extiste linhas com dados nulos por coluna\"\n",
        "print(df.isnull().sum())"
      ],
      "metadata": {
        "colab": {
          "base_uri": "https://localhost:8080/"
        },
        "id": "wzhtx68poJbX",
        "outputId": "1b0f659e-d70a-46cc-ce87-1ca09f83943f"
      },
      "execution_count": 27,
      "outputs": [
        {
          "output_type": "stream",
          "name": "stdout",
          "text": [
            "user_id                          0\n",
            "age                              0\n",
            "gender                           0\n",
            "occupation                       0\n",
            "work_mode                        0\n",
            "screen_time_hours                0\n",
            "work_screen_hours                0\n",
            "leisure_screen_hours             0\n",
            "sleep_hours                      0\n",
            "sleep_quality_1_5                0\n",
            "stress_level_0_10                0\n",
            "productivity_0_100               0\n",
            "exercise_minutes_per_week        0\n",
            "social_hours_per_week            0\n",
            "mental_wellness_index_0_100      0\n",
            "Unnamed: 15                    400\n",
            "dtype: int64\n"
          ]
        }
      ]
    },
    {
      "cell_type": "code",
      "source": [
        "# Aqui exclui a ultima coluna que estava em branco\n",
        "df = df.drop(columns=['Unnamed: 15'])"
      ],
      "metadata": {
        "id": "DmvEn3ZapPZ4"
      },
      "execution_count": 28,
      "outputs": []
    },
    {
      "cell_type": "code",
      "source": [
        "print(df.isnull().sum())"
      ],
      "metadata": {
        "colab": {
          "base_uri": "https://localhost:8080/"
        },
        "id": "mCLPuwkRsNOQ",
        "outputId": "a4cb53b2-bac4-445d-d76f-a428314318ec"
      },
      "execution_count": 29,
      "outputs": [
        {
          "output_type": "stream",
          "name": "stdout",
          "text": [
            "user_id                        0\n",
            "age                            0\n",
            "gender                         0\n",
            "occupation                     0\n",
            "work_mode                      0\n",
            "screen_time_hours              0\n",
            "work_screen_hours              0\n",
            "leisure_screen_hours           0\n",
            "sleep_hours                    0\n",
            "sleep_quality_1_5              0\n",
            "stress_level_0_10              0\n",
            "productivity_0_100             0\n",
            "exercise_minutes_per_week      0\n",
            "social_hours_per_week          0\n",
            "mental_wellness_index_0_100    0\n",
            "dtype: int64\n"
          ]
        }
      ]
    },
    {
      "cell_type": "code",
      "source": [
        "\" Verificando se existem dados duplicados\"\n",
        "\n",
        "print(df.duplicated()) # exibindo os itens duplicados, caso exista.\n",
        "print (f'numero de linhas duplicadas: {df.duplicated().sum()}')"
      ],
      "metadata": {
        "colab": {
          "base_uri": "https://localhost:8080/"
        },
        "id": "cdCw4K4EtmNB",
        "outputId": "02bbe67a-d312-435f-95ce-599386dfdcab"
      },
      "execution_count": 30,
      "outputs": [
        {
          "output_type": "stream",
          "name": "stdout",
          "text": [
            "0      False\n",
            "1      False\n",
            "2      False\n",
            "3      False\n",
            "4      False\n",
            "       ...  \n",
            "395    False\n",
            "396    False\n",
            "397    False\n",
            "398    False\n",
            "399    False\n",
            "Length: 400, dtype: bool\n",
            "numero de linhas duplicadas: 0\n"
          ]
        }
      ]
    },
    {
      "cell_type": "markdown",
      "source": [
        "###Métricas Gerais\n",
        "\n",
        "A partir dos dados brutos (raw data), consolidar as principais métricas por meio de médias."
      ],
      "metadata": {
        "id": "BwmtGvzQuwMB"
      }
    },
    {
      "cell_type": "code",
      "source": [
        "# Contar número de users por age e gender\n",
        "df_countUser = df.groupby(['age','gender'])['user_id'].nunique()\n",
        "print (df_countUser)\n"
      ],
      "metadata": {
        "colab": {
          "base_uri": "https://localhost:8080/"
        },
        "id": "MCQoKIhKuPZq",
        "outputId": "e5d55858-649e-4383-80e0-5bc3af0f6200"
      },
      "execution_count": 31,
      "outputs": [
        {
          "output_type": "stream",
          "name": "stdout",
          "text": [
            "age  gender          \n",
            "16   Female              7\n",
            "     Male                6\n",
            "17   Female              2\n",
            "     Male                3\n",
            "18   Female              7\n",
            "                        ..\n",
            "47   Non-binary/Other    1\n",
            "48   Female              1\n",
            "49   Female              1\n",
            "51   Non-binary/Other    1\n",
            "60   Male                1\n",
            "Name: user_id, Length: 71, dtype: int64\n"
          ]
        }
      ]
    },
    {
      "cell_type": "code",
      "source": [
        "df_resultado = df.groupby(['occupation','work_mode','gender']). agg({'user_id': 'nunique',\n",
        "                                                                      'age': 'median',\n",
        "                                                                      'screen_time_hours': 'median',\n",
        "                                                                      'work_screen_hours': 'median',\n",
        "                                                                      'leisure_screen_hours': 'median',\n",
        "                                                                      'sleep_hours': 'median',\n",
        "                                                                      'exercise_minutes_per_week':'median',\n",
        "                                                                      'stress_level_0_10':'median',\n",
        "                                                                      'productivity_0_100':'median',\n",
        "                                                                      'social_hours_per_week': 'median',\n",
        "                                                                      'mental_wellness_index_0_100': 'median' }).reset_index().round(0)\n",
        "print (df_resultado)\n",
        "\n",
        "df_resultado = pd.DataFrame(df_resultado)"
      ],
      "metadata": {
        "colab": {
          "base_uri": "https://localhost:8080/"
        },
        "id": "3Ks7PWajxWx3",
        "outputId": "e41f2ab0-4b44-4edb-98a4-1ff7a4a4533a",
        "collapsed": true
      },
      "execution_count": 34,
      "outputs": [
        {
          "output_type": "stream",
          "name": "stdout",
          "text": [
            "       occupation  work_mode            gender  user_id   age  \\\n",
            "0        Employed     Hybrid            Female       49  29.0   \n",
            "1        Employed     Hybrid              Male       43  30.0   \n",
            "2        Employed     Hybrid  Non-binary/Other        2  34.0   \n",
            "3        Employed  In-person            Female       40  28.0   \n",
            "4        Employed  In-person              Male       16  25.0   \n",
            "5        Employed  In-person  Non-binary/Other        1  47.0   \n",
            "6        Employed     Remote            Female       36  30.0   \n",
            "7        Employed     Remote              Male       20  31.0   \n",
            "8         Retired     Hybrid            Female        2  24.0   \n",
            "9         Retired     Hybrid              Male        1  41.0   \n",
            "10        Retired     Hybrid  Non-binary/Other        1  42.0   \n",
            "11        Retired     Remote            Female        4  31.0   \n",
            "12        Retired     Remote              Male        5  35.0   \n",
            "13        Retired     Remote  Non-binary/Other        1  42.0   \n",
            "14  Self-employed     Hybrid            Female        8  30.0   \n",
            "15  Self-employed     Hybrid              Male        9  31.0   \n",
            "16  Self-employed     Hybrid  Non-binary/Other        1  28.0   \n",
            "17  Self-employed  In-person            Female        4  32.0   \n",
            "18  Self-employed  In-person              Male        6  30.0   \n",
            "19  Self-employed     Remote            Female        9  30.0   \n",
            "20  Self-employed     Remote              Male        8  30.0   \n",
            "21        Student     Hybrid            Female       11  28.0   \n",
            "22        Student     Hybrid              Male       10  32.0   \n",
            "23        Student  In-person            Female       14  26.0   \n",
            "24        Student  In-person              Male       14  26.0   \n",
            "25        Student  In-person  Non-binary/Other        1  34.0   \n",
            "26        Student     Remote            Female       34  30.0   \n",
            "27        Student     Remote              Male       22  30.0   \n",
            "28        Student     Remote  Non-binary/Other        1  51.0   \n",
            "29     Unemployed     Hybrid            Female        5  26.0   \n",
            "30     Unemployed     Hybrid              Male        4  32.0   \n",
            "31     Unemployed  In-person            Female        3  32.0   \n",
            "32     Unemployed  In-person              Male        5  33.0   \n",
            "33     Unemployed     Remote            Female        3  37.0   \n",
            "34     Unemployed     Remote              Male        7  24.0   \n",
            "\n",
            "    screen_time_hours  work_screen_hours  leisure_screen_hours  sleep_hours  \\\n",
            "0                 9.0                1.0                   8.0          7.0   \n",
            "1                 9.0                1.0                   8.0          7.0   \n",
            "2                 8.0                1.0                   8.0          7.0   \n",
            "3                 9.0                1.0                   7.0          7.0   \n",
            "4                 8.0                1.0                   7.0          7.0   \n",
            "5                 2.0                0.0                   2.0          6.0   \n",
            "6                 9.0                4.0                   6.0          7.0   \n",
            "7                 9.0                3.0                   5.0          7.0   \n",
            "8                 5.0                1.0                   4.0          7.0   \n",
            "9                 1.0                0.0                   1.0          8.0   \n",
            "10                6.0                0.0                   6.0          7.0   \n",
            "11                9.0                3.0                   6.0          6.0   \n",
            "12                9.0                3.0                   6.0          7.0   \n",
            "13                6.0                3.0                   3.0          7.0   \n",
            "14                8.0                1.0                   7.0          7.0   \n",
            "15                8.0                1.0                   7.0          7.0   \n",
            "16               10.0                1.0                   9.0          7.0   \n",
            "17                5.0                0.0                   4.0          7.0   \n",
            "18                7.0                1.0                   7.0          8.0   \n",
            "19               10.0                4.0                   5.0          7.0   \n",
            "20                9.0                4.0                   5.0          7.0   \n",
            "21               10.0                1.0                   8.0          7.0   \n",
            "22               10.0                1.0                   9.0          7.0   \n",
            "23                9.0                1.0                   8.0          7.0   \n",
            "24                9.0                1.0                   8.0          7.0   \n",
            "25                9.0                0.0                   9.0          6.0   \n",
            "26               11.0                5.0                   6.0          7.0   \n",
            "27               11.0                4.0                   6.0          7.0   \n",
            "28               16.0                3.0                  13.0          6.0   \n",
            "29                5.0                0.0                   5.0          7.0   \n",
            "30                7.0                1.0                   6.0          6.0   \n",
            "31                6.0                1.0                   5.0          8.0   \n",
            "32                6.0                1.0                   5.0          8.0   \n",
            "33                8.0                3.0                   5.0          8.0   \n",
            "34                8.0                3.0                   5.0          7.0   \n",
            "\n",
            "    exercise_minutes_per_week  stress_level_0_10  productivity_0_100  \\\n",
            "0                        96.0                8.0                52.0   \n",
            "1                        97.0                9.0                53.0   \n",
            "2                       131.0                9.0                49.0   \n",
            "3                       124.0                8.0                54.0   \n",
            "4                        90.0                7.0                56.0   \n",
            "5                       132.0                7.0                66.0   \n",
            "6                       100.0                9.0                48.0   \n",
            "7                       106.0               10.0                49.0   \n",
            "8                       134.0                7.0                69.0   \n",
            "9                       124.0                0.0                97.0   \n",
            "10                      195.0                6.0                69.0   \n",
            "11                       89.0                8.0                55.0   \n",
            "12                      130.0                7.0                49.0   \n",
            "13                      141.0                6.0                65.0   \n",
            "14                      116.0                9.0                49.0   \n",
            "15                      120.0                8.0                58.0   \n",
            "16                       71.0               10.0                44.0   \n",
            "17                       80.0                5.0                78.0   \n",
            "18                      122.0                7.0                65.0   \n",
            "19                       84.0                9.0                48.0   \n",
            "20                       82.0                9.0                57.0   \n",
            "21                      105.0               10.0                50.0   \n",
            "22                      105.0               10.0                44.0   \n",
            "23                       72.0                8.0                50.0   \n",
            "24                       72.0                9.0                50.0   \n",
            "25                      214.0                6.0                64.0   \n",
            "26                      100.0               10.0                44.0   \n",
            "27                      122.0               10.0                44.0   \n",
            "28                       62.0               10.0                25.0   \n",
            "29                      163.0                5.0                79.0   \n",
            "30                      110.0                8.0                58.0   \n",
            "31                      148.0                7.0                54.0   \n",
            "32                      227.0                6.0                61.0   \n",
            "33                      113.0                8.0                54.0   \n",
            "34                      183.0                8.0                62.0   \n",
            "\n",
            "    social_hours_per_week  mental_wellness_index_0_100  \n",
            "0                     7.0                         19.0  \n",
            "1                     9.0                         16.0  \n",
            "2                     6.0                         24.0  \n",
            "3                     8.0                         22.0  \n",
            "4                     9.0                         17.0  \n",
            "5                    16.0                         28.0  \n",
            "6                     8.0                          9.0  \n",
            "7                     7.0                         11.0  \n",
            "8                    13.0                         30.0  \n",
            "9                    13.0                         84.0  \n",
            "10                   10.0                         44.0  \n",
            "11                    8.0                         18.0  \n",
            "12                    2.0                         31.0  \n",
            "13                    5.0                         44.0  \n",
            "14                    9.0                          8.0  \n",
            "15                    8.0                         19.0  \n",
            "16                   10.0                          5.0  \n",
            "17                   12.0                         42.0  \n",
            "18                    9.0                         31.0  \n",
            "19                    6.0                         10.0  \n",
            "20                    7.0                         22.0  \n",
            "21                    8.0                         13.0  \n",
            "22                    6.0                          0.0  \n",
            "23                    7.0                          7.0  \n",
            "24                    6.0                         12.0  \n",
            "25                   11.0                         35.0  \n",
            "26                    7.0                          5.0  \n",
            "27                    6.0                          7.0  \n",
            "28                    6.0                          0.0  \n",
            "29                    8.0                         45.0  \n",
            "30                   12.0                         15.0  \n",
            "31                    2.0                         20.0  \n",
            "32                    8.0                         38.0  \n",
            "33                   11.0                         19.0  \n",
            "34                   13.0                         30.0  \n"
          ]
        }
      ]
    },
    {
      "cell_type": "code",
      "source": [
        "resumo = df_resultado.info()\n",
        "print (resumo)"
      ],
      "metadata": {
        "colab": {
          "base_uri": "https://localhost:8080/"
        },
        "id": "-T2ki9FyxT8v",
        "outputId": "237dbf35-40fc-4788-e408-d12f04f9d663"
      },
      "execution_count": 35,
      "outputs": [
        {
          "output_type": "stream",
          "name": "stdout",
          "text": [
            "<class 'pandas.core.frame.DataFrame'>\n",
            "RangeIndex: 35 entries, 0 to 34\n",
            "Data columns (total 14 columns):\n",
            " #   Column                       Non-Null Count  Dtype  \n",
            "---  ------                       --------------  -----  \n",
            " 0   occupation                   35 non-null     object \n",
            " 1   work_mode                    35 non-null     object \n",
            " 2   gender                       35 non-null     object \n",
            " 3   user_id                      35 non-null     int64  \n",
            " 4   age                          35 non-null     float64\n",
            " 5   screen_time_hours            35 non-null     float64\n",
            " 6   work_screen_hours            35 non-null     float64\n",
            " 7   leisure_screen_hours         35 non-null     float64\n",
            " 8   sleep_hours                  35 non-null     float64\n",
            " 9   exercise_minutes_per_week    35 non-null     float64\n",
            " 10  stress_level_0_10            35 non-null     float64\n",
            " 11  productivity_0_100           35 non-null     float64\n",
            " 12  social_hours_per_week        35 non-null     float64\n",
            " 13  mental_wellness_index_0_100  35 non-null     float64\n",
            "dtypes: float64(10), int64(1), object(3)\n",
            "memory usage: 4.0+ KB\n",
            "None\n"
          ]
        }
      ]
    },
    {
      "cell_type": "code",
      "source": [
        "df_resultado.to_csv('resultado_consolidadov2.csv', index = False)\n",
        "print('Dados salvos em csv')\n",
        "\n",
        "df.to_csv('raw.csv', index = False)\n",
        "print('Dados salvos em csv')"
      ],
      "metadata": {
        "colab": {
          "base_uri": "https://localhost:8080/",
          "height": 91
        },
        "id": "HmURDrpIxkAV",
        "outputId": "bcf20dec-e5fe-4f49-caa6-e526b8618f41"
      },
      "execution_count": null,
      "outputs": [
        {
          "output_type": "stream",
          "name": "stdout",
          "text": [
            "Dados salvos em csv\n",
            "Dados salvos em csv\n"
          ]
        },
        {
          "output_type": "execute_result",
          "data": {
            "text/plain": [
              "'\\nPefuntas as serem respondidas por gráfico\\n- Média produtividade por tipo de work_mode ( filtrando somente pela occuppation \"employed\")\\n- Fazer a comparação acima por genero \\n- Entender media_social_hours por week impacta na na produtividade e mental well ness em cada um dos tipos de work mode.\\n'"
            ],
            "application/vnd.google.colaboratory.intrinsic+json": {
              "type": "string"
            }
          },
          "metadata": {},
          "execution_count": 13
        }
      ]
    }
  ]
}